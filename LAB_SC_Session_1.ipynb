{
  "nbformat": 4,
  "nbformat_minor": 0,
  "metadata": {
    "colab": {
      "provenance": [],
      "authorship_tag": "ABX9TyPUYrrbGKcBTUZoEdu0XrpS",
      "include_colab_link": true
    },
    "kernelspec": {
      "name": "python3",
      "display_name": "Python 3"
    },
    "language_info": {
      "name": "python"
    }
  },
  "cells": [
    {
      "cell_type": "markdown",
      "metadata": {
        "id": "view-in-github",
        "colab_type": "text"
      },
      "source": [
        "<a href=\"https://colab.research.google.com/github/annisaarc/Scieintific-Computing/blob/main/LAB_SC_Session_1.ipynb\" target=\"_parent\"><img src=\"https://colab.research.google.com/assets/colab-badge.svg\" alt=\"Open In Colab\"/></a>"
      ]
    },
    {
      "cell_type": "markdown",
      "source": [
        "Variable and Assignment"
      ],
      "metadata": {
        "id": "4sJbh7RvRGJb"
      }
    },
    {
      "cell_type": "code",
      "execution_count": null,
      "metadata": {
        "colab": {
          "base_uri": "https://localhost:8080/"
        },
        "id": "-ohWpKeoRAjE",
        "outputId": "3106705c-94f8-4d3d-fb52-d8a1cc329fcf"
      },
      "outputs": [
        {
          "output_type": "execute_result",
          "data": {
            "text/plain": [
              "2"
            ]
          },
          "metadata": {},
          "execution_count": 1
        }
      ],
      "source": [
        "x = 1\n",
        "y = x + 1\n",
        "x = 2\n",
        "y"
      ]
    },
    {
      "cell_type": "markdown",
      "source": [
        "Data Type and Numpy Arrays"
      ],
      "metadata": {
        "id": "pSb8nPjCRgGR"
      }
    },
    {
      "cell_type": "code",
      "source": [
        "x = np.array([1, 4, 3])\n",
        "x\n",
        "\n",
        "y = np.array([[1, 4, 3], [9, 2, 7]])\n",
        "y"
      ],
      "metadata": {
        "id": "ksVLir85RkRj"
      },
      "execution_count": null,
      "outputs": []
    },
    {
      "cell_type": "markdown",
      "source": [
        "Function"
      ],
      "metadata": {
        "id": "FSbL_VNvSDnx"
      }
    },
    {
      "cell_type": "code",
      "source": [
        "def my_adder(a, b, c):\n",
        "  \"\"\"\n",
        "  function to sum the 3 numbers\n",
        "  Input: 3 numbers a, b, c\n",
        "  Output: the sum of a, b, and c\n",
        "  author:\n",
        "  date:\n",
        "  \"\"\"\n",
        "\n",
        "  # this is the summation\n",
        "  out = a + b + c\n",
        "\n",
        "  return out"
      ],
      "metadata": {
        "id": "g5FBNiYBSGiy"
      },
      "execution_count": null,
      "outputs": []
    },
    {
      "cell_type": "markdown",
      "source": [
        "If-Else Statement"
      ],
      "metadata": {
        "id": "sk5bgz1LShLD"
      }
    },
    {
      "cell_type": "code",
      "source": [
        "def my_thermo_stat(temp, desired_temp):\n",
        "  if temp < dsired_temp - 5:\n",
        "    status = 'Heat'\n",
        "  elif > desired_temp + 5:\n",
        "    status = 'AC'\n",
        "  else:\n",
        "    status = 'off'\n",
        "  return status"
      ],
      "metadata": {
        "id": "kSaMzZ_SSlhI"
      },
      "execution_count": null,
      "outputs": []
    },
    {
      "cell_type": "code",
      "source": [
        "status = my_thermo_stat(65, 75)\n",
        "print(status)"
      ],
      "metadata": {
        "id": "oTvGBAWSTAF7"
      },
      "execution_count": null,
      "outputs": []
    },
    {
      "cell_type": "code",
      "source": [
        "status = my_thermo_stat(75, 65)\n",
        "print(status)"
      ],
      "metadata": {
        "id": "617tm9EATGPg"
      },
      "execution_count": null,
      "outputs": []
    },
    {
      "cell_type": "code",
      "source": [
        "status = my_thermo_stat(65, 63)\n",
        "print(status)"
      ],
      "metadata": {
        "id": "7VQLgFupTMPa"
      },
      "execution_count": null,
      "outputs": []
    },
    {
      "cell_type": "markdown",
      "source": [
        "Operation"
      ],
      "metadata": {
        "id": "vM-IkxfxTfDD"
      }
    },
    {
      "cell_type": "code",
      "source": [
        "x = 3\n",
        "if x > 1 and x < 2:\n",
        "  y = 2\n",
        "elif x > 2 and x < 4:\n",
        "  y = 4\n",
        "else:\n",
        "  y = 0\n",
        "  print(y)"
      ],
      "metadata": {
        "id": "zQKksSf7TgH9"
      },
      "execution_count": null,
      "outputs": []
    },
    {
      "cell_type": "code",
      "source": [
        "x = 3\n",
        "if 1 < x< 2:\n",
        "  y = 2\n",
        "elif 2 < x < 4:\n",
        "  y = 4\n",
        "else:\n",
        "  y = 0\n",
        "  print(y)"
      ],
      "metadata": {
        "id": "Pf7G7qaoTr25"
      },
      "execution_count": null,
      "outputs": []
    }
  ]
}
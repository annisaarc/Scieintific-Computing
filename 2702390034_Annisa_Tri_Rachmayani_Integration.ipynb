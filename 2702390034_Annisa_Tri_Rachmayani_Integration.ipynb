{
  "nbformat": 4,
  "nbformat_minor": 0,
  "metadata": {
    "colab": {
      "provenance": [],
      "authorship_tag": "ABX9TyNOhuNRAGRdV+NGPOY6uYlZ",
      "include_colab_link": true
    },
    "kernelspec": {
      "name": "python3",
      "display_name": "Python 3"
    },
    "language_info": {
      "name": "python"
    }
  },
  "cells": [
    {
      "cell_type": "markdown",
      "metadata": {
        "id": "view-in-github",
        "colab_type": "text"
      },
      "source": [
        "<a href=\"https://colab.research.google.com/github/annisaarc/Scieintific-Computing/blob/main/2702390034_Annisa_Tri_Rachmayani_Integration.ipynb\" target=\"_parent\"><img src=\"https://colab.research.google.com/assets/colab-badge.svg\" alt=\"Open In Colab\"/></a>"
      ]
    },
    {
      "cell_type": "markdown",
      "source": [
        "Riemann Integral"
      ],
      "metadata": {
        "id": "cwLg9oWbDlu6"
      }
    },
    {
      "cell_type": "code",
      "execution_count": 2,
      "metadata": {
        "colab": {
          "base_uri": "https://localhost:8080/"
        },
        "id": "vG9kVFea-3CJ",
        "outputId": "5091a614-59ff-47af-d214-1ea20259d20d"
      },
      "outputs": [
        {
          "output_type": "stream",
          "name": "stdout",
          "text": [
            "I_riemannL: 1.9835235375094546\n",
            "err_riemannL: 0.01647646249054535\n",
            "I_riemannR: 1.9835235375094546\n",
            "err_riemannR: 0.01647646249054535\n",
            "I_mid: 2.0082484079079745\n",
            "err_mid: -0.008248407907974542\n"
          ]
        }
      ],
      "source": [
        "import numpy as np\n",
        "\n",
        "# Parameters\n",
        "a = 0\n",
        "b = np.pi\n",
        "n = 11\n",
        "h = (b - a) / (n - 1)\n",
        "x = np.linspace(a, b, n)\n",
        "f = np.sin(x)\n",
        "\n",
        "# Riemann sum (Left)\n",
        "I_riemannL = h * sum(f[:n-1])\n",
        "err_riemannL = 2 - I_riemannL\n",
        "\n",
        "# Riemann sum (Right)\n",
        "I_riemannR = h * sum(f[1:])\n",
        "err_riemannR = 2 - I_riemannR\n",
        "\n",
        "# Midpoint rule\n",
        "midpoints = (x[:n-1] + x[1:]) / 2\n",
        "I_mid = h * sum(np.sin(midpoints))\n",
        "err_mid = 2 - I_mid\n",
        "\n",
        "# Printing results\n",
        "print(\"I_riemannL:\", I_riemannL)\n",
        "print(\"err_riemannL:\", err_riemannL)\n",
        "\n",
        "print(\"I_riemannR:\", I_riemannR)\n",
        "print(\"err_riemannR:\", err_riemannR)\n",
        "\n",
        "print(\"I_mid:\", I_mid)\n",
        "print(\"err_mid:\", err_mid)\n"
      ]
    },
    {
      "cell_type": "markdown",
      "source": [
        "Trapezoid Rule"
      ],
      "metadata": {
        "id": "T0OUM7asDr-a"
      }
    },
    {
      "cell_type": "code",
      "source": [
        "import numpy as np\n",
        "\n",
        "a = 0\n",
        "b = np.pi\n",
        "n = 11\n",
        "h = (b - a) / (n - 1)\n",
        "x = np.linspace(a, b, n)\n",
        "f = np.sin(x)\n",
        "\n",
        "I_trap = (h / 2) * (f[0] + 2 * sum(f[1:n-1]) + f[n-1])\n",
        "err_trap = 2 - I_trap\n",
        "\n",
        "print(\"I_trap:\", I_trap)\n",
        "print(\"err_trap:\", err_trap)"
      ],
      "metadata": {
        "colab": {
          "base_uri": "https://localhost:8080/"
        },
        "id": "wFe7V-ccDrgO",
        "outputId": "96d00411-4565-450a-ff20-f5ffc26b7225"
      },
      "execution_count": 4,
      "outputs": [
        {
          "output_type": "stream",
          "name": "stdout",
          "text": [
            "I_trap: 1.9835235375094546\n",
            "err_trap: 0.01647646249054535\n"
          ]
        }
      ]
    },
    {
      "cell_type": "markdown",
      "source": [
        "Quiz Integration"
      ],
      "metadata": {
        "id": "7btBcUO6zm6k"
      }
    },
    {
      "cell_type": "code",
      "source": [
        "import numpy as np\n",
        "\n",
        "# Parameters\n",
        "a = 0\n",
        "b = 1\n",
        "n = [9, 17]  # number of panels for 8 and 16 panels respectively\n",
        "h = [(b - a) / (n[i] - 1) for i in range(2)]\n",
        "x = [np.linspace(a, b, n[i]) for i in range(2)]\n",
        "f = [np.sin(x[i]**4) for i in range(2)]\n",
        "\n",
        "# Trapezoidal rule\n",
        "I_trap = [(h[i] / 2) * (f[i][0] + 2 * sum(f[i][1:n[i]-1]) + f[i][n[i]-1]) for i in range(2)]\n",
        "err_trap = [2 - I_trap[i] for i in range(2)]\n",
        "\n",
        "# Printing results\n",
        "for i in range(2):\n",
        "    print(f\"With {n[i]-1} panels:\")\n",
        "    print(\"I_trap:\", I_trap[i])\n",
        "    print(\"err_trap:\", err_trap[i], \"\\n\")\n"
      ],
      "metadata": {
        "colab": {
          "base_uri": "https://localhost:8080/"
        },
        "id": "WHCdXrVMDjyL",
        "outputId": "321eac40-1cde-45a9-ab78-7b0d77e64c21"
      },
      "execution_count": 1,
      "outputs": [
        {
          "output_type": "stream",
          "name": "stdout",
          "text": [
            "With 8 panels:\n",
            "I_trap: 0.19043163997533225\n",
            "err_trap: 1.8095683600246677 \n",
            "\n",
            "With 16 panels:\n",
            "I_trap: 0.18827608397212373\n",
            "err_trap: 1.8117239160278762 \n",
            "\n"
          ]
        }
      ]
    }
  ]
}